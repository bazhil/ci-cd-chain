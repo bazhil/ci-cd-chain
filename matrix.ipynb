{
 "cells": [
  {
   "cell_type": "code",
   "execution_count": 5,
   "id": "4588b2e5",
   "metadata": {},
   "outputs": [
    {
     "data": {
      "text/plain": [
       "[[1, 0, 0, 0, 0],\n",
       " [0, 1, 0, 0, 0],\n",
       " [0, 0, 1, 0, 0],\n",
       " [0, 0, 0, 1, 0],\n",
       " [0, 0, 0, 0, 1]]"
      ]
     },
     "execution_count": 5,
     "metadata": {},
     "output_type": "execute_result"
    }
   ],
   "source": [
    "# Матрицы\n",
    "\n",
    "def shape(a):\n",
    "    \"\"\"\n",
    "    определяет размерность матрицы\n",
    "    \"\"\"\n",
    "    num_rows = len(a)\n",
    "    num_cols = len(a[0]) if a else 0\n",
    "    \n",
    "    return num_rows, num_cols\n",
    "\n",
    "# каждая строка матрицы размера n*k может быть представлена вектором длиной k, столбец - вектором длиной n\n",
    "def get_row(a, i):\n",
    "    \"\"\"\n",
    "    получает i-ю строку\n",
    "    \"\"\"\n",
    "    return a[i]\n",
    "\n",
    "def get_columm(a, j):\n",
    "    \"\"\"\n",
    "    получает j-й столбец\n",
    "    \"\"\"\n",
    "    return [a_i[j] for a_i in a]\n",
    "\n",
    "def make_matrix(num_rows, num_cols, entry_fn):\n",
    "    \"\"\"\n",
    "    создает матрицу по переданным параметрам\n",
    "    \"\"\"\n",
    "    return [[entry_fn(i, j)\n",
    "           for j in range(num_cols)]\n",
    "           for i in range(num_rows)]\n",
    "\n",
    "def is_diagonal(i, j):\n",
    "    \"\"\"\n",
    "    является ли ячейка диагональной\n",
    "    \"\"\"\n",
    "    return 1 if i == j else 0\n",
    "\n",
    "\n",
    "identity_matrix = make_matrix(5, 5, is_diagonal)\n",
    "\n",
    "identity_matrix"
   ]
  },
  {
   "cell_type": "code",
   "execution_count": null,
   "id": "a350d5de",
   "metadata": {},
   "outputs": [],
   "source": []
  }
 ],
 "metadata": {
  "kernelspec": {
   "display_name": "Python 3 (ipykernel)",
   "language": "python",
   "name": "python3"
  },
  "language_info": {
   "codemirror_mode": {
    "name": "ipython",
    "version": 3
   },
   "file_extension": ".py",
   "mimetype": "text/x-python",
   "name": "python",
   "nbconvert_exporter": "python",
   "pygments_lexer": "ipython3",
   "version": "3.9.12"
  }
 },
 "nbformat": 4,
 "nbformat_minor": 5
}
