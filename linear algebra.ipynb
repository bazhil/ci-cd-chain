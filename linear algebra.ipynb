{
 "cells": [
  {
   "cell_type": "code",
   "execution_count": null,
   "id": "c204ebe1",
   "metadata": {},
   "outputs": [],
   "source": [
    "#  Глава 4 - Линейная алгебра"
   ]
  },
  {
   "cell_type": "code",
   "execution_count": null,
   "id": "466af38e",
   "metadata": {},
   "outputs": [],
   "source": [
    "# В самом простом случае векторы реализуют в виде списков чисел\n",
    "# сантиметры росла, кг веса, годы\n",
    "height_by_age = [175, 68, 40]\n",
    "\n",
    "# оценки по 4-м экзаменам\n",
    "grades = [95, 80, 75, 62]"
   ]
  },
  {
   "cell_type": "code",
   "execution_count": 1,
   "id": "e552c556",
   "metadata": {},
   "outputs": [
    {
     "ename": "SyntaxError",
     "evalue": "invalid syntax (3277912374.py, line 2)",
     "output_type": "error",
     "traceback": [
      "\u001b[0;36m  Input \u001b[0;32mIn [1]\u001b[0;36m\u001b[0m\n\u001b[0;31m    def vector_add(v, w);\u001b[0m\n\u001b[0m                        ^\u001b[0m\n\u001b[0;31mSyntaxError\u001b[0m\u001b[0;31m:\u001b[0m invalid syntax\n"
     ]
    }
   ],
   "source": [
    "# сложение векторов\n",
    "def vector_add(v, w);\n",
    "    \"\"\"\n",
    "    складывает соответствующие элементы\n",
    "    \"\"\"\n",
    "    return [v_i + w_i for v_i, w_i in zip(v, w)]\n",
    "\n",
    "# вычитание векторов\n",
    "def vector_substract(v, w):\n",
    "    \"\"\"\n",
    "    вычитает соответствующие элементы\n",
    "    \"\"\"\n",
    "    return [v_i - w_i for v_i, w_i in zip(v, w)]\n",
    "\n",
    "# покомпонентная сумма списка векторов\n",
    "def vector_sum(vectors):\n",
    "    \"\"\"\n",
    "    суммирует все соответствующие элементы\n",
    "    \"\"\"\n",
    "    result = vectors[0]\n",
    "    for vector in vectors[1:]:\n",
    "        result = vector_add(result, vector)\n",
    "        \n",
    "    return result\n",
    "\n",
    "# более простая реализация\n",
    "def vector_sum_2(vectors):\n",
    "    return reduce(vector_add, vectors)\n",
    "\n",
    "# и еще более простая\n",
    "vectors_sum = partial(reduce, vector_add)\n",
    "\n",
    "# умножение вектора на скаляр\n",
    "def scalar_multiply(c, v):\n",
    "    \"\"\"\n",
    "    c - это число, v - вектор\n",
    "    \"\"\"\n",
    "    return [c * v_i for v_i in v]\n",
    "\n",
    "# это позволит вычислить покомпонентное среднее значение списка векторов\n",
    "def vector_mean(vectors):\n",
    "    \"\"\"\n",
    "    вычислить вектор, чей i-элемент - это среднее значение\n",
    "    \"\"\"\n",
    "    n = len(vectors)\n",
    "    return scalar_multiply(1/n, vector_sum(vectors))\n",
    "\n",
    "# скалярное произведение - менее очевидная операция\n",
    "def dot(v, w):\n",
    "    \"\"\"\n",
    "    v_1 * w_1 + ... + v_n * w_n\n",
    "    \"\"\"\n",
    "    return sum(v_i, w_i in zip(v, w))"
   ]
  },
  {
   "cell_type": "code",
   "execution_count": null,
   "id": "802ef19c",
   "metadata": {},
   "outputs": [],
   "source": []
  }
 ],
 "metadata": {
  "kernelspec": {
   "display_name": "Python 3 (ipykernel)",
   "language": "python",
   "name": "python3"
  },
  "language_info": {
   "codemirror_mode": {
    "name": "ipython",
    "version": 3
   },
   "file_extension": ".py",
   "mimetype": "text/x-python",
   "name": "python",
   "nbconvert_exporter": "python",
   "pygments_lexer": "ipython3",
   "version": "3.9.12"
  }
 },
 "nbformat": 4,
 "nbformat_minor": 5
}
