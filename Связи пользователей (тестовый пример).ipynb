{
 "cells": [
  {
   "cell_type": "code",
   "execution_count": 1,
   "id": "5a61b79c",
   "metadata": {},
   "outputs": [],
   "source": [
    "# coding-utf-8\n",
    "\"\"\"\n",
    "Файл с простым стартовым примером из книги \"Data Science Наука о данных с нуля\"\n",
    "\"\"\"\n",
    "users = [\n",
    "    {'id': 1, 'name': 'Hero'},\n",
    "    {'id': 2, 'name': 'Dunn'},\n",
    "    {'id': 3, 'name': 'Sue'},\n",
    "    {'id': 4, 'name': 'Chi'},\n",
    "    {'id': 5, 'name': 'Thor'},\n",
    "    {'id': 6, 'name': 'Clive'},\n",
    "    {'id': 7, 'name': 'Hicks'},\n",
    "    {'id': 8, 'name': 'Devin'},\n",
    "    {'id': 9, 'name': 'Kate'},\n",
    "    {'id': 10, 'name': 'Klein'}\n",
    "]\n",
    "\n",
    "friendships = [(0, 1), (0, 2), (1, 2), (1, 3), (2, 3), (3, 4), (4, 5), (5, 6), (5, 7), (6, 8), (7, 8), (8, 9)]"
   ]
  },
  {
   "cell_type": "code",
   "execution_count": 2,
   "id": "b0784e5e",
   "metadata": {},
   "outputs": [],
   "source": [
    "# добавляем новое свойство \"friends\"\n",
    "for user in users:\n",
    "    user['friends'] = []"
   ]
  },
  {
   "cell_type": "code",
   "execution_count": 3,
   "id": "84bfe249",
   "metadata": {},
   "outputs": [
    {
     "name": "stdout",
     "output_type": "stream",
     "text": [
      "[{'id': 1, 'name': 'Hero', 'friends': [1, 2]}, {'id': 2, 'name': 'Dunn', 'friends': [0, 2, 3]}, {'id': 3, 'name': 'Sue', 'friends': [0, 1, 3]}, {'id': 4, 'name': 'Chi', 'friends': [1, 2, 4]}, {'id': 5, 'name': 'Thor', 'friends': [3, 5]}, {'id': 6, 'name': 'Clive', 'friends': [4, 6, 7]}, {'id': 7, 'name': 'Hicks', 'friends': [5, 8]}, {'id': 8, 'name': 'Devin', 'friends': [5, 8]}, {'id': 9, 'name': 'Kate', 'friends': [6, 7, 9]}, {'id': 10, 'name': 'Klein', 'friends': [8]}]\n"
     ]
    }
   ],
   "source": [
    "# заполняем список друзей для каждого пользователя\n",
    "for i, j in friendships:\n",
    "    users[i]['friends'].append(j)\n",
    "    users[j]['friends'].append(i)\n",
    "    \n",
    "print(users)"
   ]
  },
  {
   "cell_type": "code",
   "execution_count": 4,
   "id": "378ac6c7",
   "metadata": {},
   "outputs": [
    {
     "name": "stdout",
     "output_type": "stream",
     "text": [
      "total_connections = 24\n"
     ]
    }
   ],
   "source": [
    "# получаем количество связей\n",
    "def number_of_friends(user):\n",
    "    return len(user['friends'])\n",
    "\n",
    "total_connections = sum(number_of_friends(user) for user in users)\n",
    "print(f'total_connections = {total_connections}')"
   ]
  },
  {
   "cell_type": "code",
   "execution_count": 5,
   "id": "e4939140",
   "metadata": {},
   "outputs": [
    {
     "name": "stdout",
     "output_type": "stream",
     "text": [
      "[(2, 3), (3, 3), (4, 3), (6, 3), (9, 3), (1, 2), (5, 2), (7, 2), (8, 2), (10, 1)]\n"
     ]
    }
   ],
   "source": [
    "# число друзей для каждого id пользователя \n",
    "num_friends_by_user = [(user['id'], number_of_friends(user)) for user in users]\n",
    "# получаем метрику связи в социальном графе \"центральность по степени узлов\"\n",
    "num_friends = sorted(num_friends_by_user, key=lambda x: x[1], reverse=True)\n",
    "print(num_friends)"
   ]
  },
  {
   "cell_type": "code",
   "execution_count": 15,
   "id": "fd003324",
   "metadata": {},
   "outputs": [
    {
     "name": "stdout",
     "output_type": "stream",
     "text": [
      "[1, 2, 0, 2, 3, 0, 1, 3]\n"
     ]
    }
   ],
   "source": [
    "# Второй параграф \"Аналитики, которых вы должны знать\"\n",
    "# список id друзей пользователя user\n",
    "def friends_of_friend_ids_bad(user):\n",
    "    friends = [friend for friend in user['friends']]\n",
    "    friends_of_friends = [users[friend]['friends'] for friend in user['friends']]\n",
    "    for frnds in friends_of_friends:\n",
    "        friends.extend(frnds)\n",
    "    return friends\n",
    "print(friends_of_friend_ids_bad(users[0]))"
   ]
  },
  {
   "cell_type": "code",
   "execution_count": 40,
   "id": "b1f9fb92",
   "metadata": {},
   "outputs": [
    {
     "name": "stdout",
     "output_type": "stream",
     "text": [
      "[0, 1, 2, 1, 0, 2, 1, 2]\n"
     ]
    }
   ],
   "source": [
    "# исключаем лиц уже известных пользователю и добавляем счетчик\n",
    "from collections import Counter\n",
    "\n",
    "# не тот же самый\n",
    "def not_the_same(user, other_user):\n",
    "    # если id разные, то пользователи точно отличаются     \n",
    "    return user != other_user\n",
    "\n",
    "# не друзья\n",
    "def not_friends(user, other_user):\n",
    "    # other_user - не друг, если он не принадлежит user['friends'], т.е. если он not_the_same \n",
    "    # (не тот же что и все люди в user['friends'])   \n",
    "    return all(not_the_same(friend, other_user) for friend in users[user]['friends'])\n",
    "\n",
    "# список id друзей пользователя user\n",
    "def friends_of_friend_ids(user):\n",
    "#     \n",
    "    friends = friends_of_friend_ids_bad(user)\n",
    "    pure_friends = []\n",
    "    for friend in user['friends']:\n",
    "        for foaf in users[friend]['friends']:\n",
    "            if not_the_same(user['id'], foaf) and not_friends(user['id'], foaf):\n",
    "                pure_friends.extend([foaf, friend])\n",
    "    \n",
    "    return pure_friends\n",
    "    \n",
    "print(friends_of_friend_ids(users[3]))"
   ]
  },
  {
   "cell_type": "code",
   "execution_count": null,
   "id": "9f372df5",
   "metadata": {},
   "outputs": [],
   "source": []
  },
  {
   "cell_type": "code",
   "execution_count": null,
   "id": "457716be",
   "metadata": {},
   "outputs": [],
   "source": []
  }
 ],
 "metadata": {
  "kernelspec": {
   "display_name": "Python 3 (ipykernel)",
   "language": "python",
   "name": "python3"
  },
  "language_info": {
   "codemirror_mode": {
    "name": "ipython",
    "version": 3
   },
   "file_extension": ".py",
   "mimetype": "text/x-python",
   "name": "python",
   "nbconvert_exporter": "python",
   "pygments_lexer": "ipython3",
   "version": "3.9.12"
  }
 },
 "nbformat": 4,
 "nbformat_minor": 5
}
