{
 "cells": [
  {
   "cell_type": "code",
   "execution_count": 7,
   "id": "db826663",
   "metadata": {},
   "outputs": [
    {
     "name": "stdout",
     "output_type": "stream",
     "text": [
      "P(обе | старшая): 0.5007089325501317\n",
      "P(обе | любая): 0.3311897106109325\n"
     ]
    }
   ],
   "source": [
    "import random\n",
    "# Теория вероятностей\n",
    "\n",
    "def random_kid():\n",
    "    \"\"\"\n",
    "    рандомно возвращает мальчика или девочку\n",
    "    \"\"\"\n",
    "    return random.choice(['boy', 'girl'])\n",
    "\n",
    "# проверка парадокса мальчика и девочки\n",
    "both_girls = 0\n",
    "older_girl = 0\n",
    "either_girl = 0\n",
    "\n",
    "random.seed(0)\n",
    "\n",
    "# эксперимент в совокупности из 100000 семей\n",
    "for _ in range(10000):\n",
    "    younger = random_kid()\n",
    "    older = random_kid()\n",
    "    if older == 'girl':\n",
    "        older_girl += 1\n",
    "    if older == 'girl' and younger == 'girl':\n",
    "        both_girls += 1\n",
    "    if older == 'girl' or younger == 'girl':\n",
    "        either_girl += 1\n",
    "    \n",
    "print(f'P(обе | старшая): {both_girls / older_girl}')\n",
    "print(f'P(обе | любая): {both_girls / either_girl}')"
   ]
  },
  {
   "cell_type": "code",
   "execution_count": null,
   "id": "48bb05f9",
   "metadata": {},
   "outputs": [],
   "source": [
    "# теорема Байеса - лучший друг аналитика данных"
   ]
  }
 ],
 "metadata": {
  "kernelspec": {
   "display_name": "Python 3 (ipykernel)",
   "language": "python",
   "name": "python3"
  },
  "language_info": {
   "codemirror_mode": {
    "name": "ipython",
    "version": 3
   },
   "file_extension": ".py",
   "mimetype": "text/x-python",
   "name": "python",
   "nbconvert_exporter": "python",
   "pygments_lexer": "ipython3",
   "version": "3.9.12"
  }
 },
 "nbformat": 4,
 "nbformat_minor": 5
}
